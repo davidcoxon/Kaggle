{
 "cells": [
  {
   "cell_type": "markdown",
   "id": "66707909",
   "metadata": {},
   "source": [
    "# Football Transfer Market Data Analysis"
   ]
  },
  {
   "cell_type": "code",
   "execution_count": 11,
   "id": "b9c00609",
   "metadata": {},
   "outputs": [
    {
     "name": "stdout",
     "output_type": "stream",
     "text": [
      "Packages installed\n"
     ]
    }
   ],
   "source": [
    "# Import modules\n",
    "import pandas as pd\n",
    "import numpy as np\n",
    "import matplotlib.pyplot as plt\n",
    "import seaborn as sns\n",
    "import datetime as dt\n",
    "import calendar\n",
    "import datetime\n",
    "import warnings\n",
    "\n",
    "#settings\n",
    "pd.set_option('display.max_row', 100)\n",
    "pd.set_option('display.max_columns', 1200)\n",
    "pd.set_option('display.width', 1200)\n",
    "warnings.filterwarnings(\"ignore\")\n",
    "%matplotlib inline\n",
    "\n",
    "#variables\n",
    "colour=['maroon','r','g','darkgreen','c','teal','b','navy','indigo','m','deeppink','orange','sienna','yellow','khaki','olive','tan','black','grey','brown']\n",
    "\n",
    "print(\"Packages installed\")"
   ]
  },
  {
   "cell_type": "markdown",
   "id": "d36bd768",
   "metadata": {},
   "source": [
    "# Get Data"
   ]
  },
  {
   "cell_type": "code",
   "execution_count": 27,
   "id": "156a4c0c",
   "metadata": {},
   "outputs": [
    {
     "name": "stdout",
     "output_type": "stream",
     "text": [
      "Index(['player_id', 'name', 'current_club_id', 'current_club_name', 'country_of_citizenship', 'country_of_birth', 'city_of_birth', 'date_of_birth', 'position', 'sub_position', 'foot', 'height_in_cm', 'market_value_in_eur', 'highest_market_value_in_eur', 'agent_name', 'contract_expiration_date', 'current_club_domestic_competition_id', 'first_name', 'last_name', 'player_code', 'image_url', 'last_season', 'url'], dtype='object')\n",
      "(28482, 23)\n",
      "(411, 15)\n",
      "(43, 12)\n",
      "(1137501, 13)\n"
     ]
    }
   ],
   "source": [
    "# Get data\n",
    "\n",
    "players='Data/players.csv'\n",
    "clubs='Data/clubs.csv'\n",
    "competitions='Data/competitions.csv'\n",
    "appearances='Data/appearances.csv'\n",
    "\n",
    "players_df=pd.read_csv(players,sep=\",\",encoding = \"ISO-8859-1\")\n",
    "print(players_df.columns)\n",
    "print(players_df.shape)\n",
    "\n",
    "clubs_df=pd.read_csv(clubs,sep=\",\",encoding = \"ISO-8859-1\")\n",
    "#print(clubs_df.columns)\n",
    "print(clubs_df.shape)\n",
    "#print(clubs_df.name)\n",
    "\n",
    "clubs_df=pd.read_csv(clubs,sep=\",\",encoding = \"ISO-8859-1\")\n",
    "\n",
    "competitions_df=pd.read_csv(competitions,sep=\",\",encoding = \"ISO-8859-1\")\n",
    "#print(competitions_df.columns)\n",
    "print(competitions_df.shape)\n",
    "#print(competitions_df.name)\n",
    "\n",
    "appearances_df=pd.read_csv(appearances,sep=\",\",encoding = \"ISO-8859-1\")\n",
    "#print(appearances_df.columns)\n",
    "print(appearances_df.shape)"
   ]
  },
  {
   "cell_type": "code",
   "execution_count": null,
   "id": "fdf1aebf",
   "metadata": {},
   "outputs": [],
   "source": []
  }
 ],
 "metadata": {
  "kernelspec": {
   "display_name": "Python 3 (ipykernel)",
   "language": "python",
   "name": "python3"
  },
  "language_info": {
   "codemirror_mode": {
    "name": "ipython",
    "version": 3
   },
   "file_extension": ".py",
   "mimetype": "text/x-python",
   "name": "python",
   "nbconvert_exporter": "python",
   "pygments_lexer": "ipython3",
   "version": "3.9.7"
  }
 },
 "nbformat": 4,
 "nbformat_minor": 5
}
